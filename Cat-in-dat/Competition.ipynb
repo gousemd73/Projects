{
 "cells": [
  {
   "cell_type": "code",
   "execution_count": 4,
   "metadata": {},
   "outputs": [],
   "source": [
    "import pandas as pd\n",
    "import numpy as np\n",
    "\n",
    "train=pd.read_csv('train.csv')\n",
    "test=pd.read_csv('test.csv')"
   ]
  },
  {
   "cell_type": "code",
   "execution_count": 2,
   "metadata": {},
   "outputs": [
    {
     "data": {
      "text/plain": [
       "id         int64\n",
       "bin_0      int64\n",
       "bin_1      int64\n",
       "bin_2      int64\n",
       "bin_3     object\n",
       "bin_4     object\n",
       "nom_0     object\n",
       "nom_1     object\n",
       "nom_2     object\n",
       "nom_3     object\n",
       "nom_4     object\n",
       "nom_5     object\n",
       "nom_6     object\n",
       "nom_7     object\n",
       "nom_8     object\n",
       "nom_9     object\n",
       "ord_0      int64\n",
       "ord_1     object\n",
       "ord_2     object\n",
       "ord_3     object\n",
       "ord_4     object\n",
       "ord_5     object\n",
       "day        int64\n",
       "month      int64\n",
       "target     int64\n",
       "dtype: object"
      ]
     },
     "execution_count": 2,
     "metadata": {},
     "output_type": "execute_result"
    }
   ],
   "source": [
    "train.dtypes"
   ]
  },
  {
   "cell_type": "code",
   "execution_count": 3,
   "metadata": {},
   "outputs": [],
   "source": [
    "def encode(df) :\n",
    "    df['bin_3_one']=s.fit_transform(df['bin_3'])\n",
    "    df['bin_4_one']=s.fit_transform(df['bin_4'])\n",
    "    df['nom_0_one']=s.fit_transform(df['nom_0'])\n",
    "    df['nom_1_one']=s.fit_transform(df['nom_1'])\n",
    "    df['nom_2_one']=s.fit_transform(df['nom_2'])\n",
    "    df['nom_3_one']=s.fit_transform(df['nom_3'])\n",
    "    df['nom_4_one']=s.fit_transform(df['nom_4'])\n",
    "    df['nom_5_one']=s.fit_transform(df['nom_5'])\n",
    "    df['nom_6_one']=s.fit_transform(df['nom_6'])\n",
    "    df['nom_7_one']=s.fit_transform(df['nom_7'])\n",
    "    df['nom_8_one']=s.fit_transform(df['nom_8'])\n",
    "    df['nom_9_one']=s.fit_transform(df['nom_9'])\n",
    "    df['ord_1_one']=s.fit_transform(df['ord_1'])\n",
    "    df['ord_2_one']=s.fit_transform(df['ord_2'])\n",
    "    df['ord_3_one']=s.fit_transform(df['ord_3'])\n",
    "    df['ord_4_one']=s.fit_transform(df['ord_4'])\n",
    "    df['ord_5_one']=s.fit_transform(df['ord_5'])\n",
    "    df=df.drop(['bin_3','bin_4','nom_0','nom_1','nom_2','nom_3','nom_4','nom_5','nom_6','nom_7','nom_8','nom_9','ord_1','ord_2','ord_3','ord_4','ord_5'],axis=1)\n",
    "    return df\n",
    "    "
   ]
  },
  {
   "cell_type": "code",
   "execution_count": 7,
   "metadata": {},
   "outputs": [],
   "source": [
    "from sklearn.preprocessing import LabelEncoder as le\n",
    "#from sklearn.preprocessing import OneHotEncoder as oe\n",
    "s=le()\n",
    "\n"
   ]
  },
  {
   "cell_type": "code",
   "execution_count": 6,
   "metadata": {
    "scrolled": true
   },
   "outputs": [
    {
     "data": {
      "text/html": [
       "<div>\n",
       "<style scoped>\n",
       "    .dataframe tbody tr th:only-of-type {\n",
       "        vertical-align: middle;\n",
       "    }\n",
       "\n",
       "    .dataframe tbody tr th {\n",
       "        vertical-align: top;\n",
       "    }\n",
       "\n",
       "    .dataframe thead th {\n",
       "        text-align: right;\n",
       "    }\n",
       "</style>\n",
       "<table border=\"1\" class=\"dataframe\">\n",
       "  <thead>\n",
       "    <tr style=\"text-align: right;\">\n",
       "      <th></th>\n",
       "      <th>bin_0</th>\n",
       "      <th>bin_1</th>\n",
       "      <th>bin_2</th>\n",
       "      <th>ord_0</th>\n",
       "      <th>day</th>\n",
       "      <th>month</th>\n",
       "      <th>bin_3_one</th>\n",
       "      <th>bin_4_one</th>\n",
       "      <th>nom_0_one</th>\n",
       "      <th>nom_1_one</th>\n",
       "      <th>...</th>\n",
       "      <th>nom_5_one</th>\n",
       "      <th>nom_6_one</th>\n",
       "      <th>nom_7_one</th>\n",
       "      <th>nom_8_one</th>\n",
       "      <th>nom_9_one</th>\n",
       "      <th>ord_1_one</th>\n",
       "      <th>ord_2_one</th>\n",
       "      <th>ord_3_one</th>\n",
       "      <th>ord_4_one</th>\n",
       "      <th>ord_5_one</th>\n",
       "    </tr>\n",
       "  </thead>\n",
       "  <tbody>\n",
       "    <tr>\n",
       "      <th>0</th>\n",
       "      <td>0</td>\n",
       "      <td>0</td>\n",
       "      <td>0</td>\n",
       "      <td>2</td>\n",
       "      <td>2</td>\n",
       "      <td>2</td>\n",
       "      <td>1</td>\n",
       "      <td>1</td>\n",
       "      <td>1</td>\n",
       "      <td>5</td>\n",
       "      <td>...</td>\n",
       "      <td>78</td>\n",
       "      <td>120</td>\n",
       "      <td>491</td>\n",
       "      <td>1686</td>\n",
       "      <td>2175</td>\n",
       "      <td>2</td>\n",
       "      <td>1</td>\n",
       "      <td>7</td>\n",
       "      <td>3</td>\n",
       "      <td>136</td>\n",
       "    </tr>\n",
       "    <tr>\n",
       "      <th>1</th>\n",
       "      <td>0</td>\n",
       "      <td>1</td>\n",
       "      <td>0</td>\n",
       "      <td>1</td>\n",
       "      <td>7</td>\n",
       "      <td>8</td>\n",
       "      <td>1</td>\n",
       "      <td>1</td>\n",
       "      <td>1</td>\n",
       "      <td>4</td>\n",
       "      <td>...</td>\n",
       "      <td>159</td>\n",
       "      <td>510</td>\n",
       "      <td>260</td>\n",
       "      <td>650</td>\n",
       "      <td>11635</td>\n",
       "      <td>2</td>\n",
       "      <td>3</td>\n",
       "      <td>0</td>\n",
       "      <td>0</td>\n",
       "      <td>93</td>\n",
       "    </tr>\n",
       "    <tr>\n",
       "      <th>2</th>\n",
       "      <td>0</td>\n",
       "      <td>0</td>\n",
       "      <td>0</td>\n",
       "      <td>1</td>\n",
       "      <td>7</td>\n",
       "      <td>2</td>\n",
       "      <td>0</td>\n",
       "      <td>1</td>\n",
       "      <td>0</td>\n",
       "      <td>4</td>\n",
       "      <td>...</td>\n",
       "      <td>44</td>\n",
       "      <td>14</td>\n",
       "      <td>766</td>\n",
       "      <td>1932</td>\n",
       "      <td>8078</td>\n",
       "      <td>1</td>\n",
       "      <td>4</td>\n",
       "      <td>7</td>\n",
       "      <td>17</td>\n",
       "      <td>31</td>\n",
       "    </tr>\n",
       "    <tr>\n",
       "      <th>3</th>\n",
       "      <td>0</td>\n",
       "      <td>1</td>\n",
       "      <td>0</td>\n",
       "      <td>1</td>\n",
       "      <td>2</td>\n",
       "      <td>1</td>\n",
       "      <td>0</td>\n",
       "      <td>1</td>\n",
       "      <td>2</td>\n",
       "      <td>4</td>\n",
       "      <td>...</td>\n",
       "      <td>209</td>\n",
       "      <td>165</td>\n",
       "      <td>1121</td>\n",
       "      <td>629</td>\n",
       "      <td>6056</td>\n",
       "      <td>2</td>\n",
       "      <td>0</td>\n",
       "      <td>8</td>\n",
       "      <td>3</td>\n",
       "      <td>134</td>\n",
       "    </tr>\n",
       "    <tr>\n",
       "      <th>4</th>\n",
       "      <td>0</td>\n",
       "      <td>0</td>\n",
       "      <td>0</td>\n",
       "      <td>1</td>\n",
       "      <td>7</td>\n",
       "      <td>8</td>\n",
       "      <td>0</td>\n",
       "      <td>0</td>\n",
       "      <td>2</td>\n",
       "      <td>4</td>\n",
       "      <td>...</td>\n",
       "      <td>90</td>\n",
       "      <td>61</td>\n",
       "      <td>34</td>\n",
       "      <td>1760</td>\n",
       "      <td>8231</td>\n",
       "      <td>2</td>\n",
       "      <td>2</td>\n",
       "      <td>0</td>\n",
       "      <td>17</td>\n",
       "      <td>158</td>\n",
       "    </tr>\n",
       "  </tbody>\n",
       "</table>\n",
       "<p>5 rows × 23 columns</p>\n",
       "</div>"
      ],
      "text/plain": [
       "   bin_0  bin_1  bin_2  ord_0  day  month  bin_3_one  bin_4_one  nom_0_one  \\\n",
       "0      0      0      0      2    2      2          1          1          1   \n",
       "1      0      1      0      1    7      8          1          1          1   \n",
       "2      0      0      0      1    7      2          0          1          0   \n",
       "3      0      1      0      1    2      1          0          1          2   \n",
       "4      0      0      0      1    7      8          0          0          2   \n",
       "\n",
       "   nom_1_one    ...      nom_5_one  nom_6_one  nom_7_one  nom_8_one  \\\n",
       "0          5    ...             78        120        491       1686   \n",
       "1          4    ...            159        510        260        650   \n",
       "2          4    ...             44         14        766       1932   \n",
       "3          4    ...            209        165       1121        629   \n",
       "4          4    ...             90         61         34       1760   \n",
       "\n",
       "   nom_9_one  ord_1_one  ord_2_one  ord_3_one  ord_4_one  ord_5_one  \n",
       "0       2175          2          1          7          3        136  \n",
       "1      11635          2          3          0          0         93  \n",
       "2       8078          1          4          7         17         31  \n",
       "3       6056          2          0          8          3        134  \n",
       "4       8231          2          2          0         17        158  \n",
       "\n",
       "[5 rows x 23 columns]"
      ]
     },
     "execution_count": 6,
     "metadata": {},
     "output_type": "execute_result"
    }
   ],
   "source": [
    "#train['nom_0'].unique()\n",
    "df1=encode(train)\n",
    "df1.head()\n",
    "df1=df1.drop(['id','target'],axis=1)\n",
    "df1.head()\n",
    "#print(df2.dtypes)"
   ]
  },
  {
   "cell_type": "code",
   "execution_count": 8,
   "metadata": {},
   "outputs": [
    {
     "data": {
      "text/html": [
       "<div>\n",
       "<style scoped>\n",
       "    .dataframe tbody tr th:only-of-type {\n",
       "        vertical-align: middle;\n",
       "    }\n",
       "\n",
       "    .dataframe tbody tr th {\n",
       "        vertical-align: top;\n",
       "    }\n",
       "\n",
       "    .dataframe thead th {\n",
       "        text-align: right;\n",
       "    }\n",
       "</style>\n",
       "<table border=\"1\" class=\"dataframe\">\n",
       "  <thead>\n",
       "    <tr style=\"text-align: right;\">\n",
       "      <th></th>\n",
       "      <th>bin_0</th>\n",
       "      <th>bin_1</th>\n",
       "      <th>bin_2</th>\n",
       "      <th>ord_0</th>\n",
       "      <th>day</th>\n",
       "      <th>month</th>\n",
       "      <th>bin_3_one</th>\n",
       "      <th>bin_4_one</th>\n",
       "      <th>nom_0_one</th>\n",
       "      <th>nom_1_one</th>\n",
       "      <th>...</th>\n",
       "      <th>nom_5_one</th>\n",
       "      <th>nom_6_one</th>\n",
       "      <th>nom_7_one</th>\n",
       "      <th>nom_8_one</th>\n",
       "      <th>nom_9_one</th>\n",
       "      <th>ord_1_one</th>\n",
       "      <th>ord_2_one</th>\n",
       "      <th>ord_3_one</th>\n",
       "      <th>ord_4_one</th>\n",
       "      <th>ord_5_one</th>\n",
       "    </tr>\n",
       "  </thead>\n",
       "  <tbody>\n",
       "    <tr>\n",
       "      <th>0</th>\n",
       "      <td>0</td>\n",
       "      <td>0</td>\n",
       "      <td>1</td>\n",
       "      <td>2</td>\n",
       "      <td>5</td>\n",
       "      <td>11</td>\n",
       "      <td>1</td>\n",
       "      <td>1</td>\n",
       "      <td>0</td>\n",
       "      <td>5</td>\n",
       "      <td>...</td>\n",
       "      <td>8</td>\n",
       "      <td>320</td>\n",
       "      <td>371</td>\n",
       "      <td>1367</td>\n",
       "      <td>2789</td>\n",
       "      <td>4</td>\n",
       "      <td>5</td>\n",
       "      <td>9</td>\n",
       "      <td>15</td>\n",
       "      <td>95</td>\n",
       "    </tr>\n",
       "    <tr>\n",
       "      <th>1</th>\n",
       "      <td>0</td>\n",
       "      <td>0</td>\n",
       "      <td>0</td>\n",
       "      <td>1</td>\n",
       "      <td>7</td>\n",
       "      <td>5</td>\n",
       "      <td>1</td>\n",
       "      <td>0</td>\n",
       "      <td>2</td>\n",
       "      <td>2</td>\n",
       "      <td>...</td>\n",
       "      <td>151</td>\n",
       "      <td>53</td>\n",
       "      <td>79</td>\n",
       "      <td>596</td>\n",
       "      <td>1879</td>\n",
       "      <td>3</td>\n",
       "      <td>4</td>\n",
       "      <td>11</td>\n",
       "      <td>0</td>\n",
       "      <td>61</td>\n",
       "    </tr>\n",
       "    <tr>\n",
       "      <th>2</th>\n",
       "      <td>1</td>\n",
       "      <td>0</td>\n",
       "      <td>1</td>\n",
       "      <td>2</td>\n",
       "      <td>1</td>\n",
       "      <td>12</td>\n",
       "      <td>0</td>\n",
       "      <td>1</td>\n",
       "      <td>0</td>\n",
       "      <td>2</td>\n",
       "      <td>...</td>\n",
       "      <td>84</td>\n",
       "      <td>61</td>\n",
       "      <td>164</td>\n",
       "      <td>1570</td>\n",
       "      <td>5123</td>\n",
       "      <td>1</td>\n",
       "      <td>2</td>\n",
       "      <td>0</td>\n",
       "      <td>6</td>\n",
       "      <td>172</td>\n",
       "    </tr>\n",
       "    <tr>\n",
       "      <th>3</th>\n",
       "      <td>0</td>\n",
       "      <td>0</td>\n",
       "      <td>1</td>\n",
       "      <td>1</td>\n",
       "      <td>2</td>\n",
       "      <td>3</td>\n",
       "      <td>1</td>\n",
       "      <td>1</td>\n",
       "      <td>2</td>\n",
       "      <td>3</td>\n",
       "      <td>...</td>\n",
       "      <td>173</td>\n",
       "      <td>334</td>\n",
       "      <td>199</td>\n",
       "      <td>107</td>\n",
       "      <td>8365</td>\n",
       "      <td>0</td>\n",
       "      <td>4</td>\n",
       "      <td>1</td>\n",
       "      <td>16</td>\n",
       "      <td>135</td>\n",
       "    </tr>\n",
       "    <tr>\n",
       "      <th>4</th>\n",
       "      <td>0</td>\n",
       "      <td>1</td>\n",
       "      <td>1</td>\n",
       "      <td>3</td>\n",
       "      <td>4</td>\n",
       "      <td>11</td>\n",
       "      <td>0</td>\n",
       "      <td>0</td>\n",
       "      <td>2</td>\n",
       "      <td>4</td>\n",
       "      <td>...</td>\n",
       "      <td>197</td>\n",
       "      <td>305</td>\n",
       "      <td>751</td>\n",
       "      <td>2155</td>\n",
       "      <td>6903</td>\n",
       "      <td>2</td>\n",
       "      <td>4</td>\n",
       "      <td>11</td>\n",
       "      <td>22</td>\n",
       "      <td>157</td>\n",
       "    </tr>\n",
       "  </tbody>\n",
       "</table>\n",
       "<p>5 rows × 23 columns</p>\n",
       "</div>"
      ],
      "text/plain": [
       "   bin_0  bin_1  bin_2  ord_0  day  month  bin_3_one  bin_4_one  nom_0_one  \\\n",
       "0      0      0      1      2    5     11          1          1          0   \n",
       "1      0      0      0      1    7      5          1          0          2   \n",
       "2      1      0      1      2    1     12          0          1          0   \n",
       "3      0      0      1      1    2      3          1          1          2   \n",
       "4      0      1      1      3    4     11          0          0          2   \n",
       "\n",
       "   nom_1_one    ...      nom_5_one  nom_6_one  nom_7_one  nom_8_one  \\\n",
       "0          5    ...              8        320        371       1367   \n",
       "1          2    ...            151         53         79        596   \n",
       "2          2    ...             84         61        164       1570   \n",
       "3          3    ...            173        334        199        107   \n",
       "4          4    ...            197        305        751       2155   \n",
       "\n",
       "   nom_9_one  ord_1_one  ord_2_one  ord_3_one  ord_4_one  ord_5_one  \n",
       "0       2789          4          5          9         15         95  \n",
       "1       1879          3          4         11          0         61  \n",
       "2       5123          1          2          0          6        172  \n",
       "3       8365          0          4          1         16        135  \n",
       "4       6903          2          4         11         22        157  \n",
       "\n",
       "[5 rows x 23 columns]"
      ]
     },
     "execution_count": 8,
     "metadata": {},
     "output_type": "execute_result"
    }
   ],
   "source": [
    "df2=encode(test)\n",
    "df2=df2.drop(['id'],axis=1)\n",
    "df2.head()"
   ]
  },
  {
   "cell_type": "code",
   "execution_count": 9,
   "metadata": {},
   "outputs": [],
   "source": [
    "from sklearn.preprocessing import OneHotEncoder \n",
    "s1=OneHotEncoder(categorical_features = [8])\n",
    "\n",
    "df3 = s1.fit_transform(df1).toarray()"
   ]
  },
  {
   "cell_type": "code",
   "execution_count": 10,
   "metadata": {},
   "outputs": [],
   "source": [
    "df4=s1.fit_transform(df2).toarray()\n",
    "#df2.head()"
   ]
  },
  {
   "cell_type": "code",
   "execution_count": 11,
   "metadata": {},
   "outputs": [
    {
     "data": {
      "text/plain": [
       "array([0, 0, 0, ..., 1, 1, 0], dtype=int64)"
      ]
     },
     "execution_count": 11,
     "metadata": {},
     "output_type": "execute_result"
    }
   ],
   "source": [
    "labels=train['target'].values\n",
    "labels"
   ]
  },
  {
   "cell_type": "code",
   "execution_count": 24,
   "metadata": {
    "scrolled": true
   },
   "outputs": [],
   "source": [
    "from sklearn.model_selection import train_test_split\n",
    "x_train,x_val,y_train,y_val = train_test_split(df1,labels ,test_size=0.2, random_state=42)"
   ]
  },
  {
   "cell_type": "code",
   "execution_count": 10,
   "metadata": {},
   "outputs": [
    {
     "name": "stderr",
     "output_type": "stream",
     "text": [
      "E:\\Anaconda3\\lib\\site-packages\\sklearn\\ensemble\\weight_boosting.py:29: DeprecationWarning: numpy.core.umath_tests is an internal NumPy module and should not be imported. It will be removed in a future NumPy release.\n",
      "  from numpy.core.umath_tests import inner1d\n"
     ]
    }
   ],
   "source": [
    "from sklearn.ensemble import AdaBoostClassifier\n",
    "from sklearn.ensemble import RandomForestClassifier\n",
    "clf = RandomForestClassifier(n_estimators=1000,n_jobs=-1)\n",
    "bclf = AdaBoostClassifier(base_estimator=None,n_estimators=1000)\n",
    "da = bclf.fit(x_train,y_train)\n",
    "l=bclf.predict(x_val)"
   ]
  },
  {
   "cell_type": "code",
   "execution_count": 24,
   "metadata": {},
   "outputs": [
    {
     "data": {
      "text/plain": [
       "0.7235"
      ]
     },
     "execution_count": 24,
     "metadata": {},
     "output_type": "execute_result"
    }
   ],
   "source": [
    "from sklearn.metrics import accuracy_score\n",
    "accuracy_score(y_val,target_pred)"
   ]
  },
  {
   "cell_type": "code",
   "execution_count": 11,
   "metadata": {},
   "outputs": [],
   "source": [
    "from sklearn.linear_model import LogisticRegression\n",
    "\n",
    "lg=LogisticRegression()\n",
    "lg.fit(df3,labels)\n",
    "o=lg.predict_proba(df4)"
   ]
  },
  {
   "cell_type": "code",
   "execution_count": 14,
   "metadata": {},
   "outputs": [],
   "source": [
    "from sklearn.naive_bayes import GaussianNB\n",
    "cl = GaussianNB()\n",
    "cl.fit(df3,labels)\n",
    "#target_pred = cl.predict(df4)\n",
    "t=cl.predict_proba(df4)"
   ]
  },
  {
   "cell_type": "code",
   "execution_count": 15,
   "metadata": {
    "scrolled": true
   },
   "outputs": [
    {
     "data": {
      "text/plain": [
       "array([0.42687417, 0.35298877, 0.25130288, ..., 0.15257683, 0.22255851,\n",
       "       0.33413364])"
      ]
     },
     "execution_count": 15,
     "metadata": {},
     "output_type": "execute_result"
    }
   ],
   "source": [
    "t[:,1]\n",
    "#print(df1.shape)"
   ]
  },
  {
   "cell_type": "code",
   "execution_count": 61,
   "metadata": {},
   "outputs": [],
   "source": [
    "r1=[]\n",
    "for i in range(len(t)):\n",
    "    r1.append(max(t[i]))\n"
   ]
  },
  {
   "cell_type": "code",
   "execution_count": 16,
   "metadata": {
    "scrolled": true
   },
   "outputs": [],
   "source": [
    "r2=pd.Series(t[:,1],name=\"target\")\n",
    "submission = pd.concat([pd.Series(test['id'].values,name =\"id\"),r2],axis = 1)\n",
    "\n",
    "submission\n",
    "submission.to_csv(\"submission2Gaussonehot.csv\",index=False)"
   ]
  },
  {
   "cell_type": "code",
   "execution_count": 23,
   "metadata": {},
   "outputs": [
    {
     "name": "stdout",
     "output_type": "stream",
     "text": [
      "[1.25070758e+00 1.76250149e+03 2.64093450e+01 8.37679277e+02\n",
      " 8.29845200e+01 6.30745492e+03 8.08212320e+00 2.24561210e+02\n",
      " 1.55442977e+03 2.11805839e+02 5.88995963e+01 3.09947128e+02\n",
      " 1.05901608e+03 4.94687577e+01 6.48404411e+02 5.42921058e+02\n",
      " 7.60909261e+01 3.14276133e+01 9.88632502e+02 3.34848621e+02\n",
      " 1.19080392e+04 3.23702716e+04 3.07983841e+05]\n",
      "Index(['bin_0', 'bin_1', 'bin_2', 'ord_0', 'day', 'month', 'bin_3_one',\n",
      "       'bin_4_one', 'nom_0_one', 'nom_1_one', 'nom_2_one', 'nom_3_one',\n",
      "       'nom_4_one', 'nom_5_one', 'nom_6_one', 'nom_7_one', 'nom_8_one',\n",
      "       'nom_9_one', 'ord_1_one', 'ord_2_one', 'ord_3_one', 'ord_4_one',\n",
      "       'ord_5_one'],\n",
      "      dtype='object')\n"
     ]
    }
   ],
   "source": [
    "from sklearn.feature_selection import SelectKBest\n",
    "from sklearn.feature_selection import chi2\n",
    "\n",
    "bf=SelectKBest(score_func=chi2,k=10)\n",
    "fit=bf.fit(df1,labels)\n",
    "print(fit.scores_)\n",
    "print(df1.columns)\n"
   ]
  },
  {
   "cell_type": "code",
   "execution_count": 16,
   "metadata": {},
   "outputs": [
    {
     "name": "stderr",
     "output_type": "stream",
     "text": [
      "Using TensorFlow backend.\n"
     ]
    }
   ],
   "source": [
    "import keras\n",
    "\n",
    "from keras.models import Sequential,Input,Model\n",
    "from keras.layers import Dense,Dropout,Flatten\n",
    "from keras.layers import Conv2D,MaxPooling2D\n",
    "from keras.layers.normalization import BatchNormalization\n",
    "from keras.layers.advanced_activations import LeakyReLU"
   ]
  },
  {
   "cell_type": "code",
   "execution_count": 22,
   "metadata": {},
   "outputs": [
    {
     "name": "stdout",
     "output_type": "stream",
     "text": [
      "WARNING:tensorflow:From E:\\Anaconda3\\lib\\site-packages\\tensorflow\\python\\framework\\op_def_library.py:263: colocate_with (from tensorflow.python.framework.ops) is deprecated and will be removed in a future version.\n",
      "Instructions for updating:\n",
      "Colocations handled automatically by placer.\n"
     ]
    }
   ],
   "source": [
    "fashion_model = Sequential()\n",
    "#fashion_model.add(Conv2D(64, kernel_size=(3, 3),activation='linear',input_shape=(28,28,1),padding='same'))\n",
    "#fashion_model.add(LeakyReLU(alpha=0.1))\n",
    "#fashion_model.add(MaxPooling2D((2, 2),padding='same'))\n",
    "#fashion_model.add(Conv2D(128, (3, 3), activation='linear',padding='same'))\n",
    "#fashion_model.add(LeakyReLU(alpha=0.1))\n",
    "#fashion_model.add(MaxPooling2D(pool_size=(2, 2),padding='same'))\n",
    "#fashion_model.add(Conv2D(256, (3, 3), activation='linear',padding='same'))\n",
    "#fan_model.add(LeakyReLU(alpha=0.1))                  \n",
    "#fashion_model.add(MaxPooling2D(pool_size=(2, 2),padding='same'))\n",
    "fashion_model.add(Flatten())\n",
    "fashion_model.add(Dense(256, activation='linear',input_shape=(300000,23)))\n",
    "fashion_model.add(LeakyReLU(alpha=0.1))                  \n",
    "fashion_model.add(Dense(2, activation='softmax'))\n",
    "fashion_model.compile(loss=keras.losses.categorical_crossentropy, optimizer=keras.optimizers.Adam(),metrics=['accuracy'])"
   ]
  },
  {
   "cell_type": "code",
   "execution_count": 23,
   "metadata": {},
   "outputs": [
    {
     "ename": "ValueError",
     "evalue": "This model has not yet been built. Build the model first by calling build() or calling fit() with some data. Or specify input_shape or batch_input_shape in the first layer for automatic build. ",
     "output_type": "error",
     "traceback": [
      "\u001b[1;31m---------------------------------------------------------------------------\u001b[0m",
      "\u001b[1;31mValueError\u001b[0m                                Traceback (most recent call last)",
      "\u001b[1;32m<ipython-input-23-8099708ffdf0>\u001b[0m in \u001b[0;36m<module>\u001b[1;34m()\u001b[0m\n\u001b[1;32m----> 1\u001b[1;33m \u001b[0mfashion_model\u001b[0m\u001b[1;33m.\u001b[0m\u001b[0msummary\u001b[0m\u001b[1;33m(\u001b[0m\u001b[1;33m)\u001b[0m\u001b[1;33m\u001b[0m\u001b[0m\n\u001b[0m",
      "\u001b[1;32mE:\\Anaconda3\\lib\\site-packages\\keras\\engine\\network.py\u001b[0m in \u001b[0;36msummary\u001b[1;34m(self, line_length, positions, print_fn)\u001b[0m\n\u001b[0;32m   1250\u001b[0m         \u001b[1;32mif\u001b[0m \u001b[1;32mnot\u001b[0m \u001b[0mself\u001b[0m\u001b[1;33m.\u001b[0m\u001b[0mbuilt\u001b[0m\u001b[1;33m:\u001b[0m\u001b[1;33m\u001b[0m\u001b[0m\n\u001b[0;32m   1251\u001b[0m             raise ValueError(\n\u001b[1;32m-> 1252\u001b[1;33m                 \u001b[1;34m'This model has not yet been built. '\u001b[0m\u001b[1;33m\u001b[0m\u001b[0m\n\u001b[0m\u001b[0;32m   1253\u001b[0m                 \u001b[1;34m'Build the model first by calling build() '\u001b[0m\u001b[1;33m\u001b[0m\u001b[0m\n\u001b[0;32m   1254\u001b[0m                 \u001b[1;34m'or calling fit() with some data. '\u001b[0m\u001b[1;33m\u001b[0m\u001b[0m\n",
      "\u001b[1;31mValueError\u001b[0m: This model has not yet been built. Build the model first by calling build() or calling fit() with some data. Or specify input_shape or batch_input_shape in the first layer for automatic build. "
     ]
    }
   ],
   "source": [
    "fashion_model.summary()"
   ]
  },
  {
   "cell_type": "code",
   "execution_count": 25,
   "metadata": {},
   "outputs": [
    {
     "ename": "ValueError",
     "evalue": "Please provide as model inputs either a single array or a list of arrays. You passed: x=        bin_0  bin_1  bin_2  ord_0  day  month  bin_3_one  bin_4_one  \\\n254099      0      0      1      1    1      1          0          0   \n53461       0      1      0      1    1      9          0          0   \n247984      1      0      0      1    3      1          0          1   \n209067      0      0      0      1    4      3          1          1   \n185997      1      0      0      3    3     10          0          1   \n126147      0      0      0      2    1      2          1          0   \n139233      0      0      0      1    4      3          1          0   \n5013        0      0      1      1    7     12          0          1   \n44962       0      0      0      2    2      4          1          0   \n134537      0      1      1      2    1      2          0          1   \n51180       0      0      0      1    7      3          1          1   \n103293      0      0      1      1    1      5          1          0   \n47890       0      0      1      1    1     10          0          0   \n130216      0      0      0      2    3      3          1          1   \n181436      0      0      0      2    1      4          0          1   \n201923      0      0      0      2    3      8          0          0   \n283945      0      0      1      1    2      1          1          1   \n73348       0      0      1      1    1      3          0          1   \n40421       0      0      1      1    5      5          0          0   \n87655       0      0      0      3    3      2          1          1   \n90071       0      1      1      3    3     10          1          1   \n224513      1      0      1      2    3      9          0          1   \n129818      0      0      1      1    2      2          0          1   \n146699      0      0      0      2    3      7          1          1   \n235958      0      0      0      2    1      9          1          1   \n97918       0      0      0      1    6     10          0          1   \n70294       0      0      1      2    5     10          1          1   \n177031      0      0      1      1    1      9          1          0   \n144635      1      0      1      1    1     10          1          0   \n146158      0      0      0      1    4      4          1          1   \n...       ...    ...    ...    ...  ...    ...        ...        ...   \n123855      0      0      0      3    1      7          1          1   \n2747        0      0      1      1    2     12          0          1   \n130523      0      0      0      2    5     12          1          0   \n149503      0      0      0      1    2      1          1          0   \n156730      0      0      1      2    5      2          1          1   \n258795      0      0      0      1    1      8          0          1   \n184779      0      0      1      2    5      1          1          1   \n214176      0      0      1      2    2     11          0          1   \n235796      0      0      0      1    1      3          1          0   \n103355      0      0      0      2    3     11          1          0   \n267455      0      0      0      3    2     10          1          1   \n199041      0      0      0      3    1     11          0          0   \n252709      0      0      0      2    3     10          1          1   \n194027      0      0      0      2    1      3          0          0   \n262913      0      1      0      2    5     11          1          1   \n64820       0      0      1      2    2     12          0          0   \n41090       0      0      0      1    7      1          1          1   \n278167      1      0      1      2    4      5          0          0   \n191335      0      1      0      2    2      1          1          1   \n175203      0      1      0      3    4      3          0          0   \n87498       0      0      0      2    3     10          0          0   \n137337      0      0      0      1    4      1          1          0   \n54886       0      1      0      2    1      2          0          0   \n207892      0      0      1      1    7      9          0          1   \n110268      0      0      0      1    2      2          0          1   \n119879      0      0      0      1    2     11          1          0   \n259178      0      0      0      1    1     10          0          1   \n131932      0      1      0      1    2     12          1          1   \n146867      1      0      0      1    1     10          1          1   \n121958      0      1      1      1    4      3          1          1   \n\n        nom_0_one  nom_1_one    ...      nom_5_one  nom_6_one  nom_7_one  \\\n254099          1          2    ...             36         37        928   \n53461           1          4    ...             18         25        325   \n247984          1          4    ...             28        366       1205   \n209067          1          4    ...             80         30        751   \n185997          1          4    ...            167        169       1085   \n126147          1          4    ...            159        284        656   \n139233          2          1    ...             63        297        852   \n5013            2          1    ...            143        454        590   \n44962           1          4    ...            149        267        729   \n134537          1          1    ...            179        264        905   \n51180           0          3    ...             11        291        675   \n103293          2          4    ...             88        129        152   \n47890           0          2    ...            165         35        308   \n130216          1          1    ...            140        117        535   \n181436          0          0    ...            178        214         99   \n201923          0          1    ...            149        496        485   \n283945          1          0    ...            136        218        259   \n73348           1          3    ...            112         30        155   \n40421           1          5    ...             24        356       1007   \n87655           1          4    ...            166        457        811   \n90071           2          4    ...             67        447        405   \n224513          0          1    ...             83         29       1116   \n129818          0          2    ...             74        222       1137   \n146699          2          4    ...             50         12        103   \n235958          1          4    ...             40        215        400   \n97918           1          1    ...             95        497         14   \n70294           2          2    ...            132        458        685   \n177031          2          3    ...             71        323        511   \n144635          0          4    ...             99        392       1177   \n146158          1          1    ...            213        357        261   \n...           ...        ...    ...            ...        ...        ...   \n123855          1          4    ...             18        261        623   \n2747            2          0    ...            111         20       1007   \n130523          0          4    ...             89        364        707   \n149503          1          2    ...             49        458        474   \n156730          1          0    ...            219        115        412   \n258795          0          5    ...             95        131        932   \n184779          1          5    ...            116        159        786   \n214176          1          5    ...            141        369       1054   \n235796          0          1    ...            202        172        934   \n103355          1          4    ...            172        187        904   \n267455          2          5    ...             60        282        650   \n199041          1          4    ...            149        275        405   \n252709          1          3    ...            211        427        278   \n194027          0          2    ...            107        344        907   \n262913          2          4    ...             85        214        470   \n64820           0          5    ...             36        211         73   \n41090           1          2    ...             83        113        732   \n278167          2          0    ...             38        171        801   \n191335          1          0    ...            183        186       1155   \n175203          2          2    ...             83        107        394   \n87498           1          4    ...            185        414        766   \n137337          1          0    ...            217        254        587   \n54886           2          4    ...            185        320         94   \n207892          1          3    ...            178        389        165   \n110268          1          4    ...             69        469        873   \n119879          1          0    ...             88        338         31   \n259178          0          4    ...             31        257        640   \n131932          2          0    ...             82        419        755   \n146867          2          4    ...            162        312        374   \n121958          2          0    ...            152        511        244   \n\n        nom_8_one  nom_9_one  ord_1_one  ord_2_one  ord_3_one  ord_4_one  \\\n254099        757       7622          4          2         11          9   \n53461        1612       6575          1          2          8         22   \n247984        158       3957          2          1          9          8   \n209067       1133       9179          1          3         11         20   \n185997         55       1287          2          2         14         19   \n126147        955       2483          4          2          0         18   \n139233        888       3486          3          3          0          0   \n5013         1454       2689          4          1          7         16   \n44962        1076       3106          4          2          4         19   \n134537       1416       1225          4          4          7         17   \n51180        2009       9867          4          2         10          6   \n103293       1776       8735          4          0         10         17   \n47890        1295       8671          2          0          3         19   \n130216        699       2290          2          3          6         18   \n181436       2097       2498          0          0          5          6   \n201923       2123       3200          4          0          6         25   \n283945       1631       4864          0          2          8         10   \n73348         971        376          2          2         11          6   \n40421         292      11160          4          3          9          6   \n87655         732      10386          2          1          9         23   \n90071         919       1345          1          1          6          6   \n224513       1256      10222          4          5          1         13   \n129818        106      11596          0          5         11         18   \n146699        663       5448          3          0          5         16   \n235958        827       4170          4          2          8          7   \n97918         710       2478          4          3          4          4   \n70294        1758       5798          0          1          8         22   \n177031       1453      11688          1          2         14         15   \n144635       2135       9204          2          4          0         17   \n146158        300       3564          3          2         10         11   \n...           ...        ...        ...        ...        ...        ...   \n123855        628       8488          4          2          5         14   \n2747         1292        856          1          2          6          6   \n130523        408       7810          2          5          7         11   \n149503        624       9952          2          2          6         22   \n156730       2019       6062          2          0          6          4   \n258795       2167       6679          2          1          2         19   \n184779       1009       9889          0          1         10         16   \n214176        631       5345          4          2          6          7   \n235796       2145      10156          0          3          8         17   \n103355        693       3106          4          4         11         19   \n267455        765       7745          4          5         11         17   \n199041       2085       3305          1          2          7         11   \n252709       1535        138          2          2         11         21   \n194027       1700       7294          4          3         14         15   \n262913       1769         59          3          0          0         20   \n64820        1967       4632          4          2          5         11   \n41090         679       5989          4          2         11          9   \n278167       1581      10847          3          0          4         16   \n191335       1794      10817          2          0          9         21   \n175203        124       9305          3          2         10         22   \n87498         402       8475          4          4          6         19   \n137337       1985       7436          1          1         11          6   \n54886         830       3194          4          0         14         25   \n207892        569      11632          3          0          6          2   \n110268       1354      11363          0          2          5         18   \n119879       2151      10761          4          0         11         15   \n259178        356       5613          2          4          0         10   \n131932        539       5868          4          2         14         18   \n146867       1190       4286          2          0          1          0   \n121958       1355        306          2          2         11         11   \n\n        ord_5_one  \n254099         57  \n53461          89  \n247984         95  \n209067         50  \n185997        175  \n126147         60  \n139233         24  \n5013           16  \n44962         151  \n134537        163  \n51180         189  \n103293        138  \n47890          50  \n130216        120  \n181436        175  \n201923         69  \n283945         72  \n73348           6  \n40421          65  \n87655          23  \n90071         191  \n224513        109  \n129818         18  \n146699        103  \n235958        129  \n97918         191  \n70294         130  \n177031        105  \n144635         61  \n146158        103  \n...           ...  \n123855        140  \n2747          183  \n130523        127  \n149503         16  \n156730        159  \n258795        123  \n184779         58  \n214176         45  \n235796        130  \n103355        183  \n267455        160  \n199041         93  \n252709        113  \n194027         10  \n262913         70  \n64820         152  \n41090          18  \n278167          4  \n191335         67  \n175203         24  \n87498          60  \n137337         37  \n54886         111  \n207892         37  \n110268         67  \n119879         88  \n259178         77  \n131932         37  \n146867        190  \n121958         95  \n\n[240000 rows x 23 columns]",
     "output_type": "error",
     "traceback": [
      "\u001b[1;31m---------------------------------------------------------------------------\u001b[0m",
      "\u001b[1;31mValueError\u001b[0m                                Traceback (most recent call last)",
      "\u001b[1;32m<ipython-input-25-1ba2c4748155>\u001b[0m in \u001b[0;36m<module>\u001b[1;34m()\u001b[0m\n\u001b[1;32m----> 1\u001b[1;33m \u001b[0mdigit\u001b[0m\u001b[1;33m=\u001b[0m\u001b[0mfashion_model\u001b[0m\u001b[1;33m.\u001b[0m\u001b[0mfit\u001b[0m\u001b[1;33m(\u001b[0m\u001b[0mx_train\u001b[0m\u001b[1;33m,\u001b[0m\u001b[0my_train\u001b[0m\u001b[1;33m,\u001b[0m\u001b[0mbatch_size\u001b[0m\u001b[1;33m=\u001b[0m\u001b[1;36m64\u001b[0m\u001b[1;33m,\u001b[0m\u001b[0mepochs\u001b[0m\u001b[1;33m=\u001b[0m\u001b[1;36m5\u001b[0m\u001b[1;33m,\u001b[0m\u001b[0mvalidation_data\u001b[0m\u001b[1;33m=\u001b[0m\u001b[1;33m(\u001b[0m\u001b[0mx_val\u001b[0m\u001b[1;33m,\u001b[0m\u001b[0my_val\u001b[0m\u001b[1;33m)\u001b[0m\u001b[1;33m)\u001b[0m\u001b[1;33m\u001b[0m\u001b[0m\n\u001b[0m",
      "\u001b[1;32mE:\\Anaconda3\\lib\\site-packages\\keras\\engine\\training.py\u001b[0m in \u001b[0;36mfit\u001b[1;34m(self, x, y, batch_size, epochs, verbose, callbacks, validation_split, validation_data, shuffle, class_weight, sample_weight, initial_epoch, steps_per_epoch, validation_steps, **kwargs)\u001b[0m\n\u001b[0;32m    950\u001b[0m             \u001b[0msample_weight\u001b[0m\u001b[1;33m=\u001b[0m\u001b[0msample_weight\u001b[0m\u001b[1;33m,\u001b[0m\u001b[1;33m\u001b[0m\u001b[0m\n\u001b[0;32m    951\u001b[0m             \u001b[0mclass_weight\u001b[0m\u001b[1;33m=\u001b[0m\u001b[0mclass_weight\u001b[0m\u001b[1;33m,\u001b[0m\u001b[1;33m\u001b[0m\u001b[0m\n\u001b[1;32m--> 952\u001b[1;33m             batch_size=batch_size)\n\u001b[0m\u001b[0;32m    953\u001b[0m         \u001b[1;31m# Prepare validation data.\u001b[0m\u001b[1;33m\u001b[0m\u001b[1;33m\u001b[0m\u001b[0m\n\u001b[0;32m    954\u001b[0m         \u001b[0mdo_validation\u001b[0m \u001b[1;33m=\u001b[0m \u001b[1;32mFalse\u001b[0m\u001b[1;33m\u001b[0m\u001b[0m\n",
      "\u001b[1;32mE:\\Anaconda3\\lib\\site-packages\\keras\\engine\\training.py\u001b[0m in \u001b[0;36m_standardize_user_data\u001b[1;34m(self, x, y, sample_weight, class_weight, check_array_lengths, batch_size)\u001b[0m\n\u001b[0;32m    668\u001b[0m                                      \u001b[1;34m'either a single '\u001b[0m\u001b[1;33m\u001b[0m\u001b[0m\n\u001b[0;32m    669\u001b[0m                                      \u001b[1;34m'array or a list of arrays. '\u001b[0m\u001b[1;33m\u001b[0m\u001b[0m\n\u001b[1;32m--> 670\u001b[1;33m                                      'You passed: x=' + str(x))\n\u001b[0m\u001b[0;32m    671\u001b[0m                 \u001b[0mall_inputs\u001b[0m\u001b[1;33m.\u001b[0m\u001b[0mappend\u001b[0m\u001b[1;33m(\u001b[0m\u001b[0mx\u001b[0m\u001b[1;33m)\u001b[0m\u001b[1;33m\u001b[0m\u001b[0m\n\u001b[0;32m    672\u001b[0m \u001b[1;33m\u001b[0m\u001b[0m\n",
      "\u001b[1;31mValueError\u001b[0m: Please provide as model inputs either a single array or a list of arrays. You passed: x=        bin_0  bin_1  bin_2  ord_0  day  month  bin_3_one  bin_4_one  \\\n254099      0      0      1      1    1      1          0          0   \n53461       0      1      0      1    1      9          0          0   \n247984      1      0      0      1    3      1          0          1   \n209067      0      0      0      1    4      3          1          1   \n185997      1      0      0      3    3     10          0          1   \n126147      0      0      0      2    1      2          1          0   \n139233      0      0      0      1    4      3          1          0   \n5013        0      0      1      1    7     12          0          1   \n44962       0      0      0      2    2      4          1          0   \n134537      0      1      1      2    1      2          0          1   \n51180       0      0      0      1    7      3          1          1   \n103293      0      0      1      1    1      5          1          0   \n47890       0      0      1      1    1     10          0          0   \n130216      0      0      0      2    3      3          1          1   \n181436      0      0      0      2    1      4          0          1   \n201923      0      0      0      2    3      8          0          0   \n283945      0      0      1      1    2      1          1          1   \n73348       0      0      1      1    1      3          0          1   \n40421       0      0      1      1    5      5          0          0   \n87655       0      0      0      3    3      2          1          1   \n90071       0      1      1      3    3     10          1          1   \n224513      1      0      1      2    3      9          0          1   \n129818      0      0      1      1    2      2          0          1   \n146699      0      0      0      2    3      7          1          1   \n235958      0      0      0      2    1      9          1          1   \n97918       0      0      0      1    6     10          0          1   \n70294       0      0      1      2    5     10          1          1   \n177031      0      0      1      1    1      9          1          0   \n144635      1      0      1      1    1     10          1          0   \n146158      0      0      0      1    4      4          1          1   \n...       ...    ...    ...    ...  ...    ...        ...        ...   \n123855      0      0      0      3    1      7          1          1   \n2747        0      0      1      1    2     12          0          1   \n130523      0      0      0      2    5     12          1          0   \n149503      0      0      0      1    2      1          1          0   \n156730      0      0      1      2    5      2          1          1   \n258795      0      0      0      1    1      8          0          1   \n184779      0      0      1      2    5      1          1          1   \n214176      0      0      1      2    2     11          0          1   \n235796      0      0      0      1    1      3          1          0   \n103355      0      0      0      2    3     11          1          0   \n267455      0      0      0      3    2     10          1          1   \n199041      0      0      0      3    1     11          0          0   \n252709      0      0      0      2    3     10          1          1   \n194027      0      0      0      2    1      3          0          0   \n262913      0      1      0      2    5     11          1          1   \n64820       0      0      1      2    2     12          0          0   \n41090       0      0      0      1    7      1          1          1   \n278167      1      0      1      2    4      5          0          0   \n191335      0      1      0      2    2      1          1          1   \n175203      0      1      0      3    4      3          0          0   \n87498       0      0      0      2    3     10          0          0   \n137337      0      0      0      1    4      1          1          0   \n54886       0      1      0      2    1      2          0          0   \n207892      0      0      1      1    7      9          0          1   \n110268      0      0      0      1    2      2          0          1   \n119879      0      0      0      1    2     11          1          0   \n259178      0      0      0      1    1     10          0          1   \n131932      0      1      0      1    2     12          1          1   \n146867      1      0      0      1    1     10          1          1   \n121958      0      1      1      1    4      3          1          1   \n\n        nom_0_one  nom_1_one    ...      nom_5_one  nom_6_one  nom_7_one  \\\n254099          1          2    ...             36         37        928   \n53461           1          4    ...             18         25        325   \n247984          1          4    ...             28        366       1205   \n209067          1          4    ...             80         30        751   \n185997          1          4    ...            167        169       1085   \n126147          1          4    ...            159        284        656   \n139233          2          1    ...             63        297        852   \n5013            2          1    ...            143        454        590   \n44962           1          4    ...            149        267        729   \n134537          1          1    ...            179        264        905   \n51180           0          3    ...             11        291        675   \n103293          2          4    ...             88        129        152   \n47890           0          2    ...            165         35        308   \n130216          1          1    ...            140        117        535   \n181436          0          0    ...            178        214         99   \n201923          0          1    ...            149        496        485   \n283945          1          0    ...            136        218        259   \n73348           1          3    ...            112         30        155   \n40421           1          5    ...             24        356       1007   \n87655           1          4    ...            166        457        811   \n90071           2          4    ...             67        447        405   \n224513          0          1    ...             83         29       1116   \n129818          0          2    ...             74        222       1137   \n146699          2          4    ...             50         12        103   \n235958          1          4    ...             40        215        400   \n97918           1          1    ...             95        497         14   \n70294           2          2    ...            132        458        685   \n177031          2          3    ...             71        323        511   \n144635          0          4    ...             99        392       1177   \n146158          1          1    ...            213        357        261   \n...           ...        ...    ...            ...        ...        ...   \n123855          1          4    ...             18        261        623   \n2747            2          0    ...            111         20       1007   \n130523          0          4    ...             89        364        707   \n149503          1          2    ...             49        458        474   \n156730          1          0    ...            219        115        412   \n258795          0          5    ...             95        131        932   \n184779          1          5    ...            116        159        786   \n214176          1          5    ...            141        369       1054   \n235796          0          1    ...            202        172        934   \n103355          1          4    ...            172        187        904   \n267455          2          5    ...             60        282        650   \n199041          1          4    ...            149        275        405   \n252709          1          3    ...            211        427        278   \n194027          0          2    ...            107        344        907   \n262913          2          4    ...             85        214        470   \n64820           0          5    ...             36        211         73   \n41090           1          2    ...             83        113        732   \n278167          2          0    ...             38        171        801   \n191335          1          0    ...            183        186       1155   \n175203          2          2    ...             83        107        394   \n87498           1          4    ...            185        414        766   \n137337          1          0    ...            217        254        587   \n54886           2          4    ...            185        320         94   \n207892          1          3    ...            178        389        165   \n110268          1          4    ...             69        469        873   \n119879          1          0    ...             88        338         31   \n259178          0          4    ...             31        257        640   \n131932          2          0    ...             82        419        755   \n146867          2          4    ...            162        312        374   \n121958          2          0    ...            152        511        244   \n\n        nom_8_one  nom_9_one  ord_1_one  ord_2_one  ord_3_one  ord_4_one  \\\n254099        757       7622          4          2         11          9   \n53461        1612       6575          1          2          8         22   \n247984        158       3957          2          1          9          8   \n209067       1133       9179          1          3         11         20   \n185997         55       1287          2          2         14         19   \n126147        955       2483          4          2          0         18   \n139233        888       3486          3          3          0          0   \n5013         1454       2689          4          1          7         16   \n44962        1076       3106          4          2          4         19   \n134537       1416       1225          4          4          7         17   \n51180        2009       9867          4          2         10          6   \n103293       1776       8735          4          0         10         17   \n47890        1295       8671          2          0          3         19   \n130216        699       2290          2          3          6         18   \n181436       2097       2498          0          0          5          6   \n201923       2123       3200          4          0          6         25   \n283945       1631       4864          0          2          8         10   \n73348         971        376          2          2         11          6   \n40421         292      11160          4          3          9          6   \n87655         732      10386          2          1          9         23   \n90071         919       1345          1          1          6          6   \n224513       1256      10222          4          5          1         13   \n129818        106      11596          0          5         11         18   \n146699        663       5448          3          0          5         16   \n235958        827       4170          4          2          8          7   \n97918         710       2478          4          3          4          4   \n70294        1758       5798          0          1          8         22   \n177031       1453      11688          1          2         14         15   \n144635       2135       9204          2          4          0         17   \n146158        300       3564          3          2         10         11   \n...           ...        ...        ...        ...        ...        ...   \n123855        628       8488          4          2          5         14   \n2747         1292        856          1          2          6          6   \n130523        408       7810          2          5          7         11   \n149503        624       9952          2          2          6         22   \n156730       2019       6062          2          0          6          4   \n258795       2167       6679          2          1          2         19   \n184779       1009       9889          0          1         10         16   \n214176        631       5345          4          2          6          7   \n235796       2145      10156          0          3          8         17   \n103355        693       3106          4          4         11         19   \n267455        765       7745          4          5         11         17   \n199041       2085       3305          1          2          7         11   \n252709       1535        138          2          2         11         21   \n194027       1700       7294          4          3         14         15   \n262913       1769         59          3          0          0         20   \n64820        1967       4632          4          2          5         11   \n41090         679       5989          4          2         11          9   \n278167       1581      10847          3          0          4         16   \n191335       1794      10817          2          0          9         21   \n175203        124       9305          3          2         10         22   \n87498         402       8475          4          4          6         19   \n137337       1985       7436          1          1         11          6   \n54886         830       3194          4          0         14         25   \n207892        569      11632          3          0          6          2   \n110268       1354      11363          0          2          5         18   \n119879       2151      10761          4          0         11         15   \n259178        356       5613          2          4          0         10   \n131932        539       5868          4          2         14         18   \n146867       1190       4286          2          0          1          0   \n121958       1355        306          2          2         11         11   \n\n        ord_5_one  \n254099         57  \n53461          89  \n247984         95  \n209067         50  \n185997        175  \n126147         60  \n139233         24  \n5013           16  \n44962         151  \n134537        163  \n51180         189  \n103293        138  \n47890          50  \n130216        120  \n181436        175  \n201923         69  \n283945         72  \n73348           6  \n40421          65  \n87655          23  \n90071         191  \n224513        109  \n129818         18  \n146699        103  \n235958        129  \n97918         191  \n70294         130  \n177031        105  \n144635         61  \n146158        103  \n...           ...  \n123855        140  \n2747          183  \n130523        127  \n149503         16  \n156730        159  \n258795        123  \n184779         58  \n214176         45  \n235796        130  \n103355        183  \n267455        160  \n199041         93  \n252709        113  \n194027         10  \n262913         70  \n64820         152  \n41090          18  \n278167          4  \n191335         67  \n175203         24  \n87498          60  \n137337         37  \n54886         111  \n207892         37  \n110268         67  \n119879         88  \n259178         77  \n131932         37  \n146867        190  \n121958         95  \n\n[240000 rows x 23 columns]"
     ]
    }
   ],
   "source": [
    "digit=fashion_model.fit(x_train,y_train,batch_size=64,epochs=5,validation_data=(x_val,y_val))"
   ]
  },
  {
   "cell_type": "code",
   "execution_count": 9,
   "metadata": {},
   "outputs": [
    {
     "data": {
      "text/plain": [
       "XGBClassifier(base_score=0.5, booster='gbtree', colsample_bylevel=1,\n",
       "       colsample_bynode=1, colsample_bytree=1, gamma=0, learning_rate=0.1,\n",
       "       max_delta_step=0, max_depth=3, min_child_weight=1, missing=None,\n",
       "       n_estimators=100, n_jobs=1, nthread=None,\n",
       "       objective='binary:logistic', random_state=0, reg_alpha=0,\n",
       "       reg_lambda=1, scale_pos_weight=1, seed=None, silent=None,\n",
       "       subsample=1, verbosity=1)"
      ]
     },
     "execution_count": 9,
     "metadata": {},
     "output_type": "execute_result"
    }
   ],
   "source": [
    "from xgboost import XGBClassifier\n",
    "\n",
    "model=XGBClassifier()\n",
    "model.fit(df1,labels)"
   ]
  },
  {
   "cell_type": "code",
   "execution_count": 11,
   "metadata": {},
   "outputs": [
    {
     "name": "stderr",
     "output_type": "stream",
     "text": [
      "E:\\Anaconda3\\lib\\site-packages\\sklearn\\preprocessing\\label.py:151: DeprecationWarning: The truth value of an empty array is ambiguous. Returning False, but in future this will result in an error. Use `array.size > 0` to check that an array is not empty.\n",
      "  if diff:\n"
     ]
    }
   ],
   "source": [
    "q=model.predict(df2)"
   ]
  },
  {
   "cell_type": "code",
   "execution_count": 28,
   "metadata": {},
   "outputs": [
    {
     "data": {
      "text/plain": [
       "array([0, 0, 0, ..., 1, 1, 0], dtype=int64)"
      ]
     },
     "execution_count": 28,
     "metadata": {},
     "output_type": "execute_result"
    }
   ],
   "source": [
    "labels"
   ]
  },
  {
   "cell_type": "code",
   "execution_count": null,
   "metadata": {},
   "outputs": [],
   "source": [
    "from sklearn import svm\n",
    "\n",
    "d=svm.SVC(gamma=0.001)\n",
    "d.fit(df3,labels)\n",
    "k=d.predict_proba(df4)"
   ]
  },
  {
   "cell_type": "code",
   "execution_count": null,
   "metadata": {},
   "outputs": [],
   "source": []
  }
 ],
 "metadata": {
  "kernelspec": {
   "display_name": "Python 3",
   "language": "python",
   "name": "python3"
  },
  "language_info": {
   "codemirror_mode": {
    "name": "ipython",
    "version": 3
   },
   "file_extension": ".py",
   "mimetype": "text/x-python",
   "name": "python",
   "nbconvert_exporter": "python",
   "pygments_lexer": "ipython3",
   "version": "3.7.4"
  }
 },
 "nbformat": 4,
 "nbformat_minor": 2
}
